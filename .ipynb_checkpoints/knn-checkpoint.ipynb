{
 "cells": [
  {
   "cell_type": "code",
   "execution_count": 1,
   "id": "c2e2bdd2-3235-4d0e-a5a0-fcf5f648601d",
   "metadata": {},
   "outputs": [],
   "source": [
    "import pandas as pd\n",
    "from sklearn.neighbors import KNeighborsRegressor\n",
    "from sklearn.preprocessing import StandardScaler\n",
    "from sklearn.model_selection import train_test_split\n",
    "\n",
    "cars = pd.read_csv('Cars93.csv')"
   ]
  },
  {
   "cell_type": "code",
   "execution_count": 2,
   "id": "466d44d6-6e1e-4219-a63e-b2d94d3adca5",
   "metadata": {},
   "outputs": [],
   "source": [
    "cars.drop(columns=['Unnamed: 0', 'Model', 'AirBags', 'Make'], inplace = True)\n",
    "\n",
    "cars.dropna(inplace = True)"
   ]
  },
  {
   "cell_type": "code",
   "execution_count": 3,
   "id": "6b18257d-e7be-4e9c-99b8-2364f9eac9d8",
   "metadata": {},
   "outputs": [],
   "source": [
    "breakout = pd.get_dummies(cars['Manufacturer'])\n",
    "breakout.drop(columns='Acura', inplace = True)\n",
    "cars = cars.merge(breakout, how = 'inner', left_index = True, right_index = True)\n",
    "\n",
    "breakout = pd.get_dummies(cars['DriveTrain'])\n",
    "breakout.drop(columns='Front', inplace = True)\n",
    "cars = cars.merge(breakout, how = 'inner', left_index = True, right_index = True)\n",
    "\n",
    "breakout = pd.get_dummies(cars['Cylinders'])\n",
    "breakout.drop(columns='4', inplace = True)\n",
    "cars = cars.merge(breakout, how = 'inner', left_index = True, right_index = True)\n",
    "\n",
    "breakout = pd.get_dummies(cars['Man.trans.avail'])\n",
    "breakout.drop(columns='Yes', inplace = True)\n",
    "cars = cars.merge(breakout, how = 'inner', left_index = True, right_index = True)\n",
    "\n",
    "breakout = pd.get_dummies(cars['Origin'])\n",
    "breakout.drop(columns='non-USA', inplace = True)\n",
    "cars = cars.merge(breakout, how = 'inner', left_index = True, right_index = True)\n",
    "\n",
    "cars = cars.merge(breakout, how = 'inner', left_index = True, right_index = True)\n",
    "cars.drop(columns = ['Origin', 'Man.trans.avail', 'Cylinders', 'DriveTrain', 'Manufacturer'], inplace = True)\n",
    "\n"
   ]
  },
  {
   "cell_type": "markdown",
   "id": "4200123a-11f8-449b-9cd2-7a60760653db",
   "metadata": {},
   "source": [
    "## MPG Regression"
   ]
  },
  {
   "cell_type": "code",
   "execution_count": 4,
   "id": "21096a26-6eac-46f5-a1b3-12d5edc705a4",
   "metadata": {},
   "outputs": [],
   "source": [
    "X = cars.drop(columns = 'MPG.highway')\n",
    "breakout = pd.get_dummies(X['Type'])\n",
    "breakout.drop(columns='Compact', inplace = True)\n",
    "\n",
    "X = X.merge(breakout, how = 'inner', left_index = True, right_index = True)\n",
    "X = X.drop(columns = ['MPG.city', 'Type'])\n",
    "\n",
    "y = cars['MPG.highway']\n",
    "\n",
    "sc = StandardScaler()\n",
    "X_scaled = sc.fit_transform(X)\n",
    "X_scaled = pd.DataFrame(X_scaled, columns = X.columns)\n",
    "X_scaled\n",
    "\n",
    "X_scaled_train, X_scaled_test, y_train, y_test = train_test_split(X_scaled, y, test_size=0.3, random_state=0)"
   ]
  },
  {
   "cell_type": "code",
   "execution_count": 5,
   "id": "fc203994-5c6d-4799-b6a7-fc2c30e85007",
   "metadata": {
    "tags": []
   },
   "outputs": [
    {
     "name": "stdout",
     "output_type": "stream",
     "text": [
      "Best leaf_size: 1\n",
      "Best p: 1\n",
      "Best n_neighbors: 13\n"
     ]
    }
   ],
   "source": [
    "from sklearn.model_selection import GridSearchCV\n",
    "\n",
    "#List Hyperparameters that we want to tune.\n",
    "leaf_size = list(range(1,30))\n",
    "n_neighbors = list(range(1,20))\n",
    "p=[1,2]\n",
    "#Convert to dictionary\n",
    "hyperparameters = dict(leaf_size=leaf_size, n_neighbors=n_neighbors, p=p)\n",
    "#Create new KNN object\n",
    "knn_2 = KNeighborsRegressor()\n",
    "#Use GridSearch\n",
    "clf = GridSearchCV(knn_2, hyperparameters, cv=10)\n",
    "#Fit the model\n",
    "best_model = clf.fit(X_scaled_train,y_train)\n",
    "#Print The value of best Hyperparameters\n",
    "best_leaf = best_model.best_estimator_.get_params()['leaf_size']\n",
    "best_p = best_model.best_estimator_.get_params()['p']\n",
    "best_n = best_model.best_estimator_.get_params()['n_neighbors']\n",
    "print('Best leaf_size:', best_leaf)\n",
    "print('Best p:', best_p)\n",
    "print('Best n_neighbors:', best_n)"
   ]
  },
  {
   "cell_type": "code",
   "execution_count": 6,
   "id": "1854046b-1744-4f2f-a6d6-fce000fd48df",
   "metadata": {},
   "outputs": [],
   "source": [
    "regr = KNeighborsRegressor(leaf_size = best_leaf, n_neighbors = best_n, p = best_p)\n",
    "regr.fit(X_scaled_train, y_train)\n",
    "\n",
    "regr.score(X_scaled_test, y_test)\n",
    "\n",
    "prediction = regr.predict(X_scaled_test)\n",
    "predSeries = pd.Series(prediction)\n",
    "y_test = y_test.reset_index(drop = 'True')\n",
    "\n",
    "df = pd.concat([y_test, predSeries], axis=1)\n",
    "df.columns = ['True','Predicted']"
   ]
  },
  {
   "cell_type": "code",
   "execution_count": 7,
   "id": "168760e3-211f-48d8-80a7-e8dd0ee0636f",
   "metadata": {},
   "outputs": [
    {
     "data": {
      "text/html": [
       "<div>\n",
       "<style scoped>\n",
       "    .dataframe tbody tr th:only-of-type {\n",
       "        vertical-align: middle;\n",
       "    }\n",
       "\n",
       "    .dataframe tbody tr th {\n",
       "        vertical-align: top;\n",
       "    }\n",
       "\n",
       "    .dataframe thead th {\n",
       "        text-align: right;\n",
       "    }\n",
       "</style>\n",
       "<table border=\"1\" class=\"dataframe\">\n",
       "  <thead>\n",
       "    <tr style=\"text-align: right;\">\n",
       "      <th></th>\n",
       "      <th>True</th>\n",
       "      <th>Predicted</th>\n",
       "    </tr>\n",
       "  </thead>\n",
       "  <tbody>\n",
       "    <tr>\n",
       "      <th>0</th>\n",
       "      <td>30</td>\n",
       "      <td>33.538462</td>\n",
       "    </tr>\n",
       "    <tr>\n",
       "      <th>1</th>\n",
       "      <td>26</td>\n",
       "      <td>28.461538</td>\n",
       "    </tr>\n",
       "    <tr>\n",
       "      <th>2</th>\n",
       "      <td>30</td>\n",
       "      <td>31.923077</td>\n",
       "    </tr>\n",
       "    <tr>\n",
       "      <th>3</th>\n",
       "      <td>24</td>\n",
       "      <td>28.230769</td>\n",
       "    </tr>\n",
       "    <tr>\n",
       "      <th>4</th>\n",
       "      <td>27</td>\n",
       "      <td>27.692308</td>\n",
       "    </tr>\n",
       "    <tr>\n",
       "      <th>5</th>\n",
       "      <td>22</td>\n",
       "      <td>25.846154</td>\n",
       "    </tr>\n",
       "    <tr>\n",
       "      <th>6</th>\n",
       "      <td>34</td>\n",
       "      <td>34.153846</td>\n",
       "    </tr>\n",
       "    <tr>\n",
       "      <th>7</th>\n",
       "      <td>28</td>\n",
       "      <td>29.615385</td>\n",
       "    </tr>\n",
       "    <tr>\n",
       "      <th>8</th>\n",
       "      <td>25</td>\n",
       "      <td>29.692308</td>\n",
       "    </tr>\n",
       "    <tr>\n",
       "      <th>9</th>\n",
       "      <td>26</td>\n",
       "      <td>28.384615</td>\n",
       "    </tr>\n",
       "    <tr>\n",
       "      <th>10</th>\n",
       "      <td>30</td>\n",
       "      <td>31.769231</td>\n",
       "    </tr>\n",
       "    <tr>\n",
       "      <th>11</th>\n",
       "      <td>33</td>\n",
       "      <td>34.923077</td>\n",
       "    </tr>\n",
       "    <tr>\n",
       "      <th>12</th>\n",
       "      <td>27</td>\n",
       "      <td>29.923077</td>\n",
       "    </tr>\n",
       "    <tr>\n",
       "      <th>13</th>\n",
       "      <td>30</td>\n",
       "      <td>30.769231</td>\n",
       "    </tr>\n",
       "    <tr>\n",
       "      <th>14</th>\n",
       "      <td>50</td>\n",
       "      <td>35.538462</td>\n",
       "    </tr>\n",
       "    <tr>\n",
       "      <th>15</th>\n",
       "      <td>32</td>\n",
       "      <td>31.461538</td>\n",
       "    </tr>\n",
       "    <tr>\n",
       "      <th>16</th>\n",
       "      <td>33</td>\n",
       "      <td>33.769231</td>\n",
       "    </tr>\n",
       "    <tr>\n",
       "      <th>17</th>\n",
       "      <td>37</td>\n",
       "      <td>33.846154</td>\n",
       "    </tr>\n",
       "    <tr>\n",
       "      <th>18</th>\n",
       "      <td>36</td>\n",
       "      <td>33.230769</td>\n",
       "    </tr>\n",
       "    <tr>\n",
       "      <th>19</th>\n",
       "      <td>33</td>\n",
       "      <td>33.692308</td>\n",
       "    </tr>\n",
       "    <tr>\n",
       "      <th>20</th>\n",
       "      <td>28</td>\n",
       "      <td>27.615385</td>\n",
       "    </tr>\n",
       "    <tr>\n",
       "      <th>21</th>\n",
       "      <td>26</td>\n",
       "      <td>27.538462</td>\n",
       "    </tr>\n",
       "    <tr>\n",
       "      <th>22</th>\n",
       "      <td>26</td>\n",
       "      <td>33.615385</td>\n",
       "    </tr>\n",
       "    <tr>\n",
       "      <th>23</th>\n",
       "      <td>25</td>\n",
       "      <td>27.384615</td>\n",
       "    </tr>\n",
       "    <tr>\n",
       "      <th>24</th>\n",
       "      <td>27</td>\n",
       "      <td>28.461538</td>\n",
       "    </tr>\n",
       "  </tbody>\n",
       "</table>\n",
       "</div>"
      ],
      "text/plain": [
       "    True  Predicted\n",
       "0     30  33.538462\n",
       "1     26  28.461538\n",
       "2     30  31.923077\n",
       "3     24  28.230769\n",
       "4     27  27.692308\n",
       "5     22  25.846154\n",
       "6     34  34.153846\n",
       "7     28  29.615385\n",
       "8     25  29.692308\n",
       "9     26  28.384615\n",
       "10    30  31.769231\n",
       "11    33  34.923077\n",
       "12    27  29.923077\n",
       "13    30  30.769231\n",
       "14    50  35.538462\n",
       "15    32  31.461538\n",
       "16    33  33.769231\n",
       "17    37  33.846154\n",
       "18    36  33.230769\n",
       "19    33  33.692308\n",
       "20    28  27.615385\n",
       "21    26  27.538462\n",
       "22    26  33.615385\n",
       "23    25  27.384615\n",
       "24    27  28.461538"
      ]
     },
     "execution_count": 7,
     "metadata": {},
     "output_type": "execute_result"
    }
   ],
   "source": [
    "df"
   ]
  },
  {
   "cell_type": "code",
   "execution_count": 10,
   "id": "266893b2-c670-4d0b-989d-d17e8ad0ec9d",
   "metadata": {},
   "outputs": [
    {
     "data": {
      "text/plain": [
       "Text(0, 0.5, 'Predicted MPG')"
      ]
     },
     "execution_count": 10,
     "metadata": {},
     "output_type": "execute_result"
    },
    {
     "data": {
      "image/png": "[encoded data removed]",
      "text/plain": [
       "<Figure size 432x288 with 1 Axes>"
      ]
     },
     "metadata": {
      "needs_background": "light"
     },
     "output_type": "display_data"
    }
   ],
   "source": [
    "ax = df.plot(kind = 'scatter', x='True',y='Predicted')\n",
    "ax.set_xlabel('True MPG')\n",
    "ax.set_ylabel('Predicted MPG')\n",
    "ax.set_title('KNN')"
   ]
  },
  {
   "cell_type": "code",
   "execution_count": 9,
   "id": "97de795a-08da-4a8d-bfb8-5ea12c278355",
   "metadata": {},
   "outputs": [
    {
     "data": {
      "text/plain": [
       "0.4894932483689881"
      ]
     },
     "execution_count": 9,
     "metadata": {},
     "output_type": "execute_result"
    }
   ],
   "source": [
    "regr.score(X_scaled_test, y_test)"
   ]
  },
  {
   "cell_type": "code",
   "execution_count": null,
   "id": "edb77f2d-f8d3-4f1d-aeb0-dfa152fb98af",
   "metadata": {},
   "outputs": [],
   "source": [
    "\n"
   ]
  }
 ],
 "metadata": {
  "kernelspec": {
   "display_name": "Python 3",
   "language": "python",
   "name": "python3"
  },
  "language_info": {
   "codemirror_mode": {
    "name": "ipython",
    "version": 3
   },
   "file_extension": ".py",
   "mimetype": "text/x-python",
   "name": "python",
   "nbconvert_exporter": "python",
   "pygments_lexer": "ipython3",
   "version": "3.8.8"
  }
 },
 "nbformat": 4,
 "nbformat_minor": 5
}
